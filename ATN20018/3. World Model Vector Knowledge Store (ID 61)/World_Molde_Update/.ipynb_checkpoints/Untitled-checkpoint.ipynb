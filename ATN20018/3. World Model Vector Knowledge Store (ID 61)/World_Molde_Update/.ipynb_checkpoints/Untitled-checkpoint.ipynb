{
 "cells": [
  {
   "cell_type": "code",
   "execution_count": null,
   "metadata": {
    "collapsed": true
   },
   "outputs": [],
   "source": []
  },
  {
   "cell_type": "code",
   "execution_count": null,
   "metadata": {
    "scrolled": true
   },
   "outputs": [],
   "source": [
    "from socketio_client.manager import Manager\n",
    "\n",
    "import gevent\n",
    "from gevent import monkey;\n",
    "monkey.patch_socket()\n",
    "\n",
    "io = Manager('localhost', 3000)\n",
    "chat = io.socket('/chat')\n",
    "\n",
    "@chat.on_connect()\n",
    "def chat_connect():\n",
    "    chat.emit(\"Hello\")\n",
    "\n",
    "@chat.on('welcome')\n",
    "def chat_welcome():\n",
    "    chat.emit(\"Thanks!\")\n",
    "\n",
    "io.connect()\n",
    "gevent.wait()\n",
    "\n"
   ]
  },
  {
   "cell_type": "code",
   "execution_count": null,
   "metadata": {
    "collapsed": true
   },
   "outputs": [],
   "source": []
  },
  {
   "cell_type": "code",
   "execution_count": null,
   "metadata": {
    "collapsed": true
   },
   "outputs": [],
   "source": []
  },
  {
   "cell_type": "code",
   "execution_count": null,
   "metadata": {
    "collapsed": true
   },
   "outputs": [],
   "source": []
  }
 ],
 "metadata": {
  "kernelspec": {
   "display_name": "Python 3",
   "language": "python",
   "name": "python3"
  },
  "language_info": {
   "codemirror_mode": {
    "name": "ipython",
    "version": 3
   },
   "file_extension": ".py",
   "mimetype": "text/x-python",
   "name": "python",
   "nbconvert_exporter": "python",
   "pygments_lexer": "ipython3",
   "version": "3.6.1"
  }
 },
 "nbformat": 4,
 "nbformat_minor": 2
}
